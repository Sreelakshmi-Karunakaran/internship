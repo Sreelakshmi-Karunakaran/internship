{
 "cells": [
  {
   "cell_type": "code",
   "execution_count": 2,
   "id": "5b9f63d9",
   "metadata": {},
   "outputs": [],
   "source": [
    "import pandas as pd\n",
    "import numpy as np\n",
    "from sklearn.svm import SVC\n",
    "from sklearn.ensemble import RandomForestClassifier\n",
    "from sklearn.model_selection import train_test_split\n",
    "from sklearn.preprocessing import StandardScaler\n",
    "from sklearn.metrics import classification_report\n",
    "\n",
    "import matplotlib.pyplot as plt\n"
   ]
  },
  {
   "cell_type": "code",
   "execution_count": 3,
   "id": "73b84e1d",
   "metadata": {},
   "outputs": [
    {
     "data": {
      "text/html": [
       "<div>\n",
       "<style scoped>\n",
       "    .dataframe tbody tr th:only-of-type {\n",
       "        vertical-align: middle;\n",
       "    }\n",
       "\n",
       "    .dataframe tbody tr th {\n",
       "        vertical-align: top;\n",
       "    }\n",
       "\n",
       "    .dataframe thead th {\n",
       "        text-align: right;\n",
       "    }\n",
       "</style>\n",
       "<table border=\"1\" class=\"dataframe\">\n",
       "  <thead>\n",
       "    <tr style=\"text-align: right;\">\n",
       "      <th></th>\n",
       "      <th>urlDrugName</th>\n",
       "      <th>rating</th>\n",
       "      <th>effectiveness</th>\n",
       "      <th>condition</th>\n",
       "      <th>sideEffects</th>\n",
       "    </tr>\n",
       "  </thead>\n",
       "  <tbody>\n",
       "    <tr>\n",
       "      <th>0</th>\n",
       "      <td>enalapril</td>\n",
       "      <td>4</td>\n",
       "      <td>Highly Effective</td>\n",
       "      <td>management of congestive heart failure</td>\n",
       "      <td>Mild Side Effects</td>\n",
       "    </tr>\n",
       "    <tr>\n",
       "      <th>1</th>\n",
       "      <td>ortho-tri-cyclen</td>\n",
       "      <td>1</td>\n",
       "      <td>Highly Effective</td>\n",
       "      <td>birth prevention</td>\n",
       "      <td>Severe Side Effects</td>\n",
       "    </tr>\n",
       "    <tr>\n",
       "      <th>2</th>\n",
       "      <td>ponstel</td>\n",
       "      <td>10</td>\n",
       "      <td>Highly Effective</td>\n",
       "      <td>menstrual cramps</td>\n",
       "      <td>No Side Effects</td>\n",
       "    </tr>\n",
       "    <tr>\n",
       "      <th>3</th>\n",
       "      <td>prilosec</td>\n",
       "      <td>3</td>\n",
       "      <td>Marginally Effective</td>\n",
       "      <td>acid reflux</td>\n",
       "      <td>Mild Side Effects</td>\n",
       "    </tr>\n",
       "    <tr>\n",
       "      <th>4</th>\n",
       "      <td>lyrica</td>\n",
       "      <td>2</td>\n",
       "      <td>Marginally Effective</td>\n",
       "      <td>fibromyalgia</td>\n",
       "      <td>Severe Side Effects</td>\n",
       "    </tr>\n",
       "  </tbody>\n",
       "</table>\n",
       "</div>"
      ],
      "text/plain": [
       "        urlDrugName  rating         effectiveness  \\\n",
       "0         enalapril       4      Highly Effective   \n",
       "1  ortho-tri-cyclen       1      Highly Effective   \n",
       "2           ponstel      10      Highly Effective   \n",
       "3          prilosec       3  Marginally Effective   \n",
       "4            lyrica       2  Marginally Effective   \n",
       "\n",
       "                                condition          sideEffects  \n",
       "0  management of congestive heart failure    Mild Side Effects  \n",
       "1                        birth prevention  Severe Side Effects  \n",
       "2                        menstrual cramps      No Side Effects  \n",
       "3                             acid reflux    Mild Side Effects  \n",
       "4                            fibromyalgia  Severe Side Effects  "
      ]
     },
     "execution_count": 3,
     "metadata": {},
     "output_type": "execute_result"
    }
   ],
   "source": [
    "# load the dataset\n",
    "df=pd.read_csv(r\"C:\\Users\\sreel\\Downloads\\drugEffects.csv\").drop(columns=['Unnamed: 0'])\n",
    "df.head()"
   ]
  },
  {
   "cell_type": "code",
   "execution_count": 4,
   "id": "2678857b",
   "metadata": {},
   "outputs": [
    {
     "data": {
      "text/plain": [
       "urlDrugName      0\n",
       "rating           0\n",
       "effectiveness    0\n",
       "condition        1\n",
       "sideEffects      0\n",
       "dtype: int64"
      ]
     },
     "execution_count": 4,
     "metadata": {},
     "output_type": "execute_result"
    }
   ],
   "source": [
    "#check null values\n",
    "\n",
    "df.isna().sum()"
   ]
  },
  {
   "cell_type": "code",
   "execution_count": 7,
   "id": "a3264336",
   "metadata": {},
   "outputs": [],
   "source": [
    "df=df.dropna()"
   ]
  },
  {
   "cell_type": "code",
   "execution_count": 8,
   "id": "b8ccb319",
   "metadata": {},
   "outputs": [
    {
     "data": {
      "text/plain": [
       "urlDrugName      0\n",
       "rating           0\n",
       "effectiveness    0\n",
       "condition        0\n",
       "sideEffects      0\n",
       "dtype: int64"
      ]
     },
     "execution_count": 8,
     "metadata": {},
     "output_type": "execute_result"
    }
   ],
   "source": [
    "df.isna().sum()"
   ]
  },
  {
   "cell_type": "code",
   "execution_count": 9,
   "id": "144ded14",
   "metadata": {},
   "outputs": [
    {
     "name": "stdout",
     "output_type": "stream",
     "text": [
      "<class 'pandas.core.frame.DataFrame'>\n",
      "Int64Index: 3106 entries, 0 to 3106\n",
      "Data columns (total 5 columns):\n",
      " #   Column         Non-Null Count  Dtype \n",
      "---  ------         --------------  ----- \n",
      " 0   urlDrugName    3106 non-null   object\n",
      " 1   rating         3106 non-null   int64 \n",
      " 2   effectiveness  3106 non-null   object\n",
      " 3   condition      3106 non-null   object\n",
      " 4   sideEffects    3106 non-null   object\n",
      "dtypes: int64(1), object(4)\n",
      "memory usage: 145.6+ KB\n"
     ]
    }
   ],
   "source": [
    "df.info()"
   ]
  },
  {
   "cell_type": "code",
   "execution_count": 10,
   "id": "01481627",
   "metadata": {},
   "outputs": [
    {
     "data": {
      "text/html": [
       "<div>\n",
       "<style scoped>\n",
       "    .dataframe tbody tr th:only-of-type {\n",
       "        vertical-align: middle;\n",
       "    }\n",
       "\n",
       "    .dataframe tbody tr th {\n",
       "        vertical-align: top;\n",
       "    }\n",
       "\n",
       "    .dataframe thead th {\n",
       "        text-align: right;\n",
       "    }\n",
       "</style>\n",
       "<table border=\"1\" class=\"dataframe\">\n",
       "  <thead>\n",
       "    <tr style=\"text-align: right;\">\n",
       "      <th></th>\n",
       "      <th>rating</th>\n",
       "    </tr>\n",
       "  </thead>\n",
       "  <tbody>\n",
       "    <tr>\n",
       "      <th>count</th>\n",
       "      <td>3106.000000</td>\n",
       "    </tr>\n",
       "    <tr>\n",
       "      <th>mean</th>\n",
       "      <td>7.007727</td>\n",
       "    </tr>\n",
       "    <tr>\n",
       "      <th>std</th>\n",
       "      <td>2.936681</td>\n",
       "    </tr>\n",
       "    <tr>\n",
       "      <th>min</th>\n",
       "      <td>1.000000</td>\n",
       "    </tr>\n",
       "    <tr>\n",
       "      <th>25%</th>\n",
       "      <td>5.000000</td>\n",
       "    </tr>\n",
       "    <tr>\n",
       "      <th>50%</th>\n",
       "      <td>8.000000</td>\n",
       "    </tr>\n",
       "    <tr>\n",
       "      <th>75%</th>\n",
       "      <td>9.000000</td>\n",
       "    </tr>\n",
       "    <tr>\n",
       "      <th>max</th>\n",
       "      <td>10.000000</td>\n",
       "    </tr>\n",
       "  </tbody>\n",
       "</table>\n",
       "</div>"
      ],
      "text/plain": [
       "            rating\n",
       "count  3106.000000\n",
       "mean      7.007727\n",
       "std       2.936681\n",
       "min       1.000000\n",
       "25%       5.000000\n",
       "50%       8.000000\n",
       "75%       9.000000\n",
       "max      10.000000"
      ]
     },
     "execution_count": 10,
     "metadata": {},
     "output_type": "execute_result"
    }
   ],
   "source": [
    "df.describe()"
   ]
  },
  {
   "cell_type": "code",
   "execution_count": 11,
   "id": "4f5d3abe",
   "metadata": {},
   "outputs": [
    {
     "data": {
      "image/png": "[encoded data removed]",
      "text/plain": [
       "<Figure size 432x288 with 1 Axes>"
      ]
     },
     "metadata": {
      "needs_background": "light"
     },
     "output_type": "display_data"
    }
   ],
   "source": [
    "# To check the available drugs\n",
    "\n",
    "df['urlDrugName'].value_counts().head(15).plot(kind='bar')\n",
    "plt.rcParams['figure.figsize']=(10,7)\n",
    "plt.show()\n"
   ]
  },
  {
   "cell_type": "code",
   "execution_count": 12,
   "id": "5934c3b2",
   "metadata": {},
   "outputs": [
    {
     "data": {
      "image/png": "[encoded data removed]",
      "text/plain": [
       "<Figure size 720x504 with 1 Axes>"
      ]
     },
     "metadata": {
      "needs_background": "light"
     },
     "output_type": "display_data"
    }
   ],
   "source": [
    "# Rating of drugs\n",
    "\n",
    "df['rating'].value_counts().plot(kind='bar')\n",
    "plt.xlabel('ratings')\n",
    "plt.show()"
   ]
  },
  {
   "cell_type": "code",
   "execution_count": 13,
   "id": "2bba8446",
   "metadata": {},
   "outputs": [
    {
     "data": {
      "image/png": "[encoded data removed]",
      "text/plain": [
       "<Figure size 720x504 with 1 Axes>"
      ]
     },
     "metadata": {},
     "output_type": "display_data"
    }
   ],
   "source": [
    "#Effectiveness of the drugs\n",
    "\n",
    "df['effectiveness'].value_counts().plot(kind='pie')\n",
    "plt.show()"
   ]
  },
  {
   "cell_type": "code",
   "execution_count": 14,
   "id": "d6402f92",
   "metadata": {},
   "outputs": [
    {
     "data": {
      "image/png": "[encoded data removed]",
      "text/plain": [
       "<Figure size 720x504 with 1 Axes>"
      ]
     },
     "metadata": {
      "needs_background": "light"
     },
     "output_type": "display_data"
    }
   ],
   "source": [
    "df['condition'].value_counts().head(10).plot(kind='bar')\n",
    "plt.xlabel('condition')\n",
    "plt.show()"
   ]
  },
  {
   "cell_type": "code",
   "execution_count": 15,
   "id": "4c27d132",
   "metadata": {},
   "outputs": [
    {
     "data": {
      "text/plain": [
       "depression                                          236\n",
       "acne                                                165\n",
       "anxiety                                              63\n",
       "insomnia                                             54\n",
       "birth control                                        49\n",
       "                                                   ... \n",
       "panic attacks, depression                             1\n",
       "extrinsic aging                                       1\n",
       "all over and various type pain                        1\n",
       "excessive coughing, later diagnosed as pneumonia      1\n",
       "total hysterctomy                                     1\n",
       "Name: condition, Length: 1426, dtype: int64"
      ]
     },
     "execution_count": 15,
     "metadata": {},
     "output_type": "execute_result"
    }
   ],
   "source": [
    "df['condition'].value_counts()"
   ]
  },
  {
   "cell_type": "code",
   "execution_count": 16,
   "id": "eaa36046",
   "metadata": {},
   "outputs": [
    {
     "data": {
      "image/png": "[encoded data removed]",
      "text/plain": [
       "<Figure size 720x504 with 1 Axes>"
      ]
     },
     "metadata": {},
     "output_type": "display_data"
    }
   ],
   "source": [
    "df['sideEffects'].value_counts().plot(kind='pie')\n",
    "plt.ylabel('')\n",
    "plt.show()"
   ]
  },
  {
   "cell_type": "code",
   "execution_count": 17,
   "id": "ee033028",
   "metadata": {},
   "outputs": [
    {
     "data": {
      "text/html": [
       "<div>\n",
       "<style scoped>\n",
       "    .dataframe tbody tr th:only-of-type {\n",
       "        vertical-align: middle;\n",
       "    }\n",
       "\n",
       "    .dataframe tbody tr th {\n",
       "        vertical-align: top;\n",
       "    }\n",
       "\n",
       "    .dataframe thead th {\n",
       "        text-align: right;\n",
       "    }\n",
       "</style>\n",
       "<table border=\"1\" class=\"dataframe\">\n",
       "  <thead>\n",
       "    <tr style=\"text-align: right;\">\n",
       "      <th></th>\n",
       "      <th>urlDrugName</th>\n",
       "      <th>rating</th>\n",
       "      <th>effectiveness</th>\n",
       "      <th>condition</th>\n",
       "    </tr>\n",
       "  </thead>\n",
       "  <tbody>\n",
       "    <tr>\n",
       "      <th>0</th>\n",
       "      <td>enalapril</td>\n",
       "      <td>4</td>\n",
       "      <td>Highly Effective</td>\n",
       "      <td>management of congestive heart failure</td>\n",
       "    </tr>\n",
       "    <tr>\n",
       "      <th>1</th>\n",
       "      <td>ortho-tri-cyclen</td>\n",
       "      <td>1</td>\n",
       "      <td>Highly Effective</td>\n",
       "      <td>birth prevention</td>\n",
       "    </tr>\n",
       "    <tr>\n",
       "      <th>2</th>\n",
       "      <td>ponstel</td>\n",
       "      <td>10</td>\n",
       "      <td>Highly Effective</td>\n",
       "      <td>menstrual cramps</td>\n",
       "    </tr>\n",
       "    <tr>\n",
       "      <th>3</th>\n",
       "      <td>prilosec</td>\n",
       "      <td>3</td>\n",
       "      <td>Marginally Effective</td>\n",
       "      <td>acid reflux</td>\n",
       "    </tr>\n",
       "    <tr>\n",
       "      <th>4</th>\n",
       "      <td>lyrica</td>\n",
       "      <td>2</td>\n",
       "      <td>Marginally Effective</td>\n",
       "      <td>fibromyalgia</td>\n",
       "    </tr>\n",
       "  </tbody>\n",
       "</table>\n",
       "</div>"
      ],
      "text/plain": [
       "        urlDrugName  rating         effectiveness  \\\n",
       "0         enalapril       4      Highly Effective   \n",
       "1  ortho-tri-cyclen       1      Highly Effective   \n",
       "2           ponstel      10      Highly Effective   \n",
       "3          prilosec       3  Marginally Effective   \n",
       "4            lyrica       2  Marginally Effective   \n",
       "\n",
       "                                condition  \n",
       "0  management of congestive heart failure  \n",
       "1                        birth prevention  \n",
       "2                        menstrual cramps  \n",
       "3                             acid reflux  \n",
       "4                            fibromyalgia  "
      ]
     },
     "execution_count": 17,
     "metadata": {},
     "output_type": "execute_result"
    }
   ],
   "source": [
    "#put target into a seperate columns\n",
    "\n",
    "target=df.pop('sideEffects')\n",
    "df.head()"
   ]
  },
  {
   "cell_type": "code",
   "execution_count": 18,
   "id": "40b1290b",
   "metadata": {},
   "outputs": [
    {
     "data": {
      "text/html": [
       "<div>\n",
       "<style scoped>\n",
       "    .dataframe tbody tr th:only-of-type {\n",
       "        vertical-align: middle;\n",
       "    }\n",
       "\n",
       "    .dataframe tbody tr th {\n",
       "        vertical-align: top;\n",
       "    }\n",
       "\n",
       "    .dataframe thead th {\n",
       "        text-align: right;\n",
       "    }\n",
       "</style>\n",
       "<table border=\"1\" class=\"dataframe\">\n",
       "  <thead>\n",
       "    <tr style=\"text-align: right;\">\n",
       "      <th></th>\n",
       "      <th>urlDrugName</th>\n",
       "      <th>rating</th>\n",
       "      <th>effectiveness</th>\n",
       "      <th>condition</th>\n",
       "    </tr>\n",
       "  </thead>\n",
       "  <tbody>\n",
       "    <tr>\n",
       "      <th>0</th>\n",
       "      <td>0</td>\n",
       "      <td>4</td>\n",
       "      <td>0</td>\n",
       "      <td>0</td>\n",
       "    </tr>\n",
       "    <tr>\n",
       "      <th>1</th>\n",
       "      <td>1</td>\n",
       "      <td>1</td>\n",
       "      <td>0</td>\n",
       "      <td>1</td>\n",
       "    </tr>\n",
       "    <tr>\n",
       "      <th>2</th>\n",
       "      <td>2</td>\n",
       "      <td>10</td>\n",
       "      <td>0</td>\n",
       "      <td>2</td>\n",
       "    </tr>\n",
       "    <tr>\n",
       "      <th>3</th>\n",
       "      <td>3</td>\n",
       "      <td>3</td>\n",
       "      <td>1</td>\n",
       "      <td>3</td>\n",
       "    </tr>\n",
       "    <tr>\n",
       "      <th>4</th>\n",
       "      <td>4</td>\n",
       "      <td>2</td>\n",
       "      <td>1</td>\n",
       "      <td>4</td>\n",
       "    </tr>\n",
       "  </tbody>\n",
       "</table>\n",
       "</div>"
      ],
      "text/plain": [
       "   urlDrugName  rating  effectiveness  condition\n",
       "0            0       4              0          0\n",
       "1            1       1              0          1\n",
       "2            2      10              0          2\n",
       "3            3       3              1          3\n",
       "4            4       2              1          4"
      ]
     },
     "execution_count": 18,
     "metadata": {},
     "output_type": "execute_result"
    }
   ],
   "source": [
    "# to convert the categorical data to numeric\n",
    "\n",
    "cols=['urlDrugName','effectiveness','condition']\n",
    "\n",
    "for x in cols:\n",
    "    df[x]=pd.factorize(df[x])[0]\n",
    "    \n",
    "target=pd.factorize(target)[0]\n",
    "df.head()"
   ]
  },
  {
   "cell_type": "code",
   "execution_count": 19,
   "id": "cf7cf38f",
   "metadata": {},
   "outputs": [
    {
     "data": {
      "text/plain": [
       "array([[-1.21280119, -1.02435755, -1.0466628 , -0.94250417],\n",
       "       [-1.20431494, -2.04608348, -1.0466628 , -0.94016719],\n",
       "       [-1.1958287 ,  1.01909431, -1.0466628 , -0.93783021],\n",
       "       ...,\n",
       "       [ 0.35715464, -1.70550817, -0.41208645,  2.38769227],\n",
       "       [ 3.03880891,  0.33794369,  0.85706626, -0.67141449],\n",
       "       [ 1.16334817, -1.02435755,  1.49164261, -0.74152389]])"
      ]
     },
     "execution_count": 19,
     "metadata": {},
     "output_type": "execute_result"
    }
   ],
   "source": [
    "# scaling the data before modelling\n",
    "\n",
    "scaler=StandardScaler()\n",
    "df=scaler.fit_transform(df)\n",
    "\n",
    "df"
   ]
  },
  {
   "cell_type": "code",
   "execution_count": 20,
   "id": "497e1309",
   "metadata": {},
   "outputs": [],
   "source": [
    "#splitting data into train and validation\n",
    "\n",
    "x_train, x_test, y_train, y_test = train_test_split(df,target)\n"
   ]
  },
  {
   "cell_type": "code",
   "execution_count": 21,
   "id": "d7660c9d",
   "metadata": {},
   "outputs": [
    {
     "name": "stdout",
     "output_type": "stream",
     "text": [
      "              precision    recall  f1-score   support\n",
      "\n",
      "           0       0.52      0.54      0.53       282\n",
      "           1       0.35      0.46      0.40        81\n",
      "           2       0.51      0.58      0.54       226\n",
      "           3       0.46      0.28      0.34        40\n",
      "           4       0.45      0.31      0.37       148\n",
      "\n",
      "    accuracy                           0.48       777\n",
      "   macro avg       0.46      0.43      0.44       777\n",
      "weighted avg       0.48      0.48      0.48       777\n",
      "\n"
     ]
    }
   ],
   "source": [
    "#Using SVM\n",
    "\n",
    "svm_clf=SVC().fit(x_train,y_train)\n",
    "\n",
    "svm_pred=svm_clf.predict(x_test)\n",
    "\n",
    "print(classification_report(y_test, svm_pred))"
   ]
  },
  {
   "cell_type": "code",
   "execution_count": 22,
   "id": "a6b335e1",
   "metadata": {},
   "outputs": [
    {
     "name": "stdout",
     "output_type": "stream",
     "text": [
      "              precision    recall  f1-score   support\n",
      "\n",
      "           0       0.47      0.46      0.47       282\n",
      "           1       0.26      0.27      0.27        81\n",
      "           2       0.49      0.51      0.50       226\n",
      "           3       0.37      0.38      0.37        40\n",
      "           4       0.37      0.35      0.36       148\n",
      "\n",
      "    accuracy                           0.43       777\n",
      "   macro avg       0.39      0.39      0.39       777\n",
      "weighted avg       0.43      0.43      0.43       777\n",
      "\n"
     ]
    }
   ],
   "source": [
    "#Using Random Forest\n",
    "\n",
    "rf_clf=RandomForestClassifier().fit(x_train,y_train)\n",
    "\n",
    "rf_pred=rf_clf.predict(x_test)\n",
    "\n",
    "print(classification_report(y_test,rf_pred))"
   ]
  },
  {
   "cell_type": "code",
   "execution_count": 23,
   "id": "3da1d4aa",
   "metadata": {},
   "outputs": [
    {
     "name": "stdout",
     "output_type": "stream",
     "text": [
      "              precision    recall  f1-score   support\n",
      "\n",
      "           0       0.48      0.59      0.52       282\n",
      "           1       0.34      0.32      0.33        81\n",
      "           2       0.47      0.45      0.46       226\n",
      "           3       0.45      0.57      0.51        40\n",
      "           4       0.47      0.28      0.35       148\n",
      "\n",
      "    accuracy                           0.46       777\n",
      "   macro avg       0.44      0.44      0.43       777\n",
      "weighted avg       0.46      0.46      0.45       777\n",
      "\n"
     ]
    }
   ],
   "source": [
    "# Naive Bayes Classifier\n",
    "\n",
    "from sklearn.naive_bayes import GaussianNB\n",
    "\n",
    "nb_clf=GaussianNB().fit(x_train,y_train)\n",
    "\n",
    "nb_pred=nb_clf.predict(x_test)\n",
    "\n",
    "print(classification_report(y_test,nb_pred))\n"
   ]
  },
  {
   "cell_type": "code",
   "execution_count": 24,
   "id": "58bde3f2",
   "metadata": {},
   "outputs": [
    {
     "name": "stdout",
     "output_type": "stream",
     "text": [
      "              precision    recall  f1-score   support\n",
      "\n",
      "           0       0.49      0.54      0.51       282\n",
      "           1       0.36      0.49      0.41        81\n",
      "           2       0.48      0.57      0.52       226\n",
      "           3       0.36      0.10      0.16        40\n",
      "           4       0.44      0.24      0.31       148\n",
      "\n",
      "    accuracy                           0.46       777\n",
      "   macro avg       0.43      0.39      0.38       777\n",
      "weighted avg       0.46      0.46      0.45       777\n",
      "\n"
     ]
    }
   ],
   "source": [
    "# Logistic Regression\n",
    "\n",
    "from sklearn.linear_model import LogisticRegression\n",
    "\n",
    "lg_clf=LogisticRegression().fit(x_train,y_train)\n",
    "\n",
    "lg_pred=lg_clf.predict(x_test)\n",
    "\n",
    "print(classification_report(y_test,lg_pred))\n"
   ]
  },
  {
   "cell_type": "code",
   "execution_count": 25,
   "id": "1625626c",
   "metadata": {},
   "outputs": [
    {
     "name": "stdout",
     "output_type": "stream",
     "text": [
      "              precision    recall  f1-score   support\n",
      "\n",
      "           0       0.51      0.56      0.54       282\n",
      "           1       0.27      0.32      0.29        81\n",
      "           2       0.49      0.50      0.49       226\n",
      "           3       0.33      0.25      0.29        40\n",
      "           4       0.36      0.26      0.30       148\n",
      "\n",
      "    accuracy                           0.45       777\n",
      "   macro avg       0.39      0.38      0.38       777\n",
      "weighted avg       0.44      0.45      0.44       777\n",
      "\n"
     ]
    }
   ],
   "source": [
    "# KNN Classifier\n",
    "\n",
    "from sklearn.neighbors import KNeighborsClassifier\n",
    "\n",
    "knn_clf=KNeighborsClassifier().fit(x_train,y_train)\n",
    "\n",
    "knn_pred=knn_clf.predict(x_test)\n",
    "\n",
    "print(classification_report(y_test,knn_pred))"
   ]
  },
  {
   "cell_type": "code",
   "execution_count": 26,
   "id": "48f50cf9",
   "metadata": {},
   "outputs": [
    {
     "name": "stdout",
     "output_type": "stream",
     "text": [
      "              precision    recall  f1-score   support\n",
      "\n",
      "           0       0.49      0.44      0.46       282\n",
      "           1       0.27      0.31      0.29        81\n",
      "           2       0.45      0.49      0.47       226\n",
      "           3       0.33      0.28      0.30        40\n",
      "           4       0.33      0.34      0.34       148\n",
      "\n",
      "    accuracy                           0.41       777\n",
      "   macro avg       0.37      0.37      0.37       777\n",
      "weighted avg       0.42      0.41      0.41       777\n",
      "\n"
     ]
    }
   ],
   "source": [
    "#Decision Tree\n",
    "\n",
    "from sklearn.tree import DecisionTreeClassifier\n",
    "\n",
    "dt_clf=DecisionTreeClassifier().fit(x_train,y_train)\n",
    "\n",
    "dt_pred=dt_clf.predict(x_test)\n",
    "\n",
    "print(classification_report(y_test,dt_pred))"
   ]
  },
  {
   "cell_type": "code",
   "execution_count": null,
   "id": "8a20b06b",
   "metadata": {},
   "outputs": [],
   "source": []
  },
  {
   "cell_type": "code",
   "execution_count": null,
   "id": "76047a02",
   "metadata": {},
   "outputs": [],
   "source": []
  }
 ],
 "metadata": {
  "kernelspec": {
   "display_name": "Python 3 (ipykernel)",
   "language": "python",
   "name": "python3"
  },
  "language_info": {
   "codemirror_mode": {
    "name": "ipython",
    "version": 3
   },
   "file_extension": ".py",
   "mimetype": "text/x-python",
   "name": "python",
   "nbconvert_exporter": "python",
   "pygments_lexer": "ipython3",
   "version": "3.9.7"
  }
 },
 "nbformat": 4,
 "nbformat_minor": 5
}
